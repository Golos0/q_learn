{
 "cells": [
  {
   "cell_type": "markdown",
   "metadata": {},
   "source": [
    "# [Learn Quantum Computing with Python and Q#](https://www.manning.com/books/learn-quantum-computing-with-python-and-q-sharp?a_aid=learn-qc-granade&a_bid=ee23f338)\n",
    "# Chapter 11 | Resource Estimation Example\n",
    "----\n",
    "> Copyright (c) Sarah Kaiser and Cassandra Granade.\n",
    "> Code sample from the book \"Learn Quantum Computing with Python and Q#\" by\n",
    "> Sarah Kaiser and Cassandra Granade, published by Manning Publications Co.\n",
    "> Book ISBN 9781617296130.\n",
    "> Code licensed under the MIT License."
   ]
  },
  {
   "cell_type": "markdown",
   "metadata": {},
   "source": [
    "## Deutsch–Jozsa"
   ]
  },
  {
   "cell_type": "code",
   "execution_count": 8,
   "metadata": {},
   "outputs": [
    {
     "data": {
      "application/x-qsharp-data": "[\"ApplyNotOracle\"]",
      "text/html": [
       "<ul><li>ApplyNotOracle</li></ul>"
      ],
      "text/plain": [
       "ApplyNotOracle"
      ]
     },
     "execution_count": 8,
     "metadata": {},
     "output_type": "execute_result"
    }
   ],
   "source": [
    "operation ApplyNotOracle(control : Qubit, target : Qubit) : Unit {\n",
    "    within {\n",
    "        X(control);\n",
    "    } apply {\n",
    "        CNOT(control, target);\n",
    "    }\n",
    "}"
   ]
  },
  {
   "cell_type": "code",
   "execution_count": 9,
   "metadata": {},
   "outputs": [
    {
     "data": {
      "application/x-qsharp-data": "[\"CheckIfOracleIsBalanced\"]",
      "text/html": [
       "<ul><li>CheckIfOracleIsBalanced</li></ul>"
      ],
      "text/plain": [
       "CheckIfOracleIsBalanced"
      ]
     },
     "execution_count": 9,
     "metadata": {},
     "output_type": "execute_result"
    }
   ],
   "source": [
    "open Microsoft.Quantum.Measurement;\n",
    "\n",
    "operation CheckIfOracleIsBalanced(oracle : ((Qubit, Qubit) => Unit)) \n",
    ": Bool {\n",
    "    use (control, target) = (Qubit(), Qubit());\n",
    "    H(control);\n",
    "        \n",
    "    within {\n",
    "        X(target);\n",
    "        H(target);\n",
    "    } apply {\n",
    "        oracle(control, target);\n",
    "    }\n",
    "        \n",
    "    return MResetX(control) == One;\n",
    "}"
   ]
  },
  {
   "cell_type": "code",
   "execution_count": 10,
   "metadata": {},
   "outputs": [
    {
     "data": {
      "application/x-qsharp-data": "[\"RunDeutschJozsaAlgorithm\"]",
      "text/html": [
       "<ul><li>RunDeutschJozsaAlgorithm</li></ul>"
      ],
      "text/plain": [
       "RunDeutschJozsaAlgorithm"
      ]
     },
     "execution_count": 10,
     "metadata": {},
     "output_type": "execute_result"
    }
   ],
   "source": [
    "operation RunDeutschJozsaAlgorithm() : Bool {\n",
    "    return CheckIfOracleIsBalanced(ApplyNotOracle);\n",
    "}"
   ]
  },
  {
   "cell_type": "code",
   "execution_count": 11,
   "metadata": {},
   "outputs": [
    {
     "data": {
      "application/x-qsharp-data": "[{\"Metric\":\"CNOT\",\"Sum\":1.0,\"Max\":1.0},{\"Metric\":\"QubitClifford\",\"Sum\":8.0,\"Max\":8.0},{\"Metric\":\"R\",\"Sum\":0.0,\"Max\":0.0},{\"Metric\":\"Measure\",\"Sum\":1.0,\"Max\":1.0},{\"Metric\":\"T\",\"Sum\":0.0,\"Max\":0.0},{\"Metric\":\"Depth\",\"Sum\":0.0,\"Max\":0.0},{\"Metric\":\"Width\",\"Sum\":2.0,\"Max\":2.0},{\"Metric\":\"QubitCount\",\"Sum\":2.0,\"Max\":2.0},{\"Metric\":\"BorrowedWidth\",\"Sum\":0.0,\"Max\":0.0}]",
      "text/html": [
       "<table><thead><tr><th style=\"text-align: start;\">Metric</th><th style=\"text-align: start;\">Sum</th><th style=\"text-align: start;\">Max</th></tr></thead><tbody><tr><td style=\"text-align: start;\">CNOT</td><td style=\"text-align: start;\">1</td><td style=\"text-align: start;\">1</td></tr><tr><td style=\"text-align: start;\">QubitClifford</td><td style=\"text-align: start;\">8</td><td style=\"text-align: start;\">8</td></tr><tr><td style=\"text-align: start;\">R</td><td style=\"text-align: start;\">0</td><td style=\"text-align: start;\">0</td></tr><tr><td style=\"text-align: start;\">Measure</td><td style=\"text-align: start;\">1</td><td style=\"text-align: start;\">1</td></tr><tr><td style=\"text-align: start;\">T</td><td style=\"text-align: start;\">0</td><td style=\"text-align: start;\">0</td></tr><tr><td style=\"text-align: start;\">Depth</td><td style=\"text-align: start;\">0</td><td style=\"text-align: start;\">0</td></tr><tr><td style=\"text-align: start;\">Width</td><td style=\"text-align: start;\">2</td><td style=\"text-align: start;\">2</td></tr><tr><td style=\"text-align: start;\">QubitCount</td><td style=\"text-align: start;\">2</td><td style=\"text-align: start;\">2</td></tr><tr><td style=\"text-align: start;\">BorrowedWidth</td><td style=\"text-align: start;\">0</td><td style=\"text-align: start;\">0</td></tr></tbody></table>"
      ],
      "text/plain": [
       "Metric        Sum Max\n",
       "------------- - -\n",
       "CNOT          1 1\n",
       "QubitClifford 8 8\n",
       "R             0 0\n",
       "Measure       1 1\n",
       "T             0 0\n",
       "Depth         0 0\n",
       "Width         2 2\n",
       "QubitCount    2 2\n",
       "BorrowedWidth 0 0\n"
      ]
     },
     "execution_count": 11,
     "metadata": {},
     "output_type": "execute_result"
    }
   ],
   "source": [
    "%estimate RunDeutschJozsaAlgorithm"
   ]
  },
  {
   "cell_type": "markdown",
   "metadata": {},
   "source": [
    "## CCNOT"
   ]
  },
  {
   "cell_type": "code",
   "execution_count": 12,
   "metadata": {},
   "outputs": [
    {
     "data": {
      "application/x-qsharp-data": "[\"EstimateCcnotResources\"]",
      "text/html": [
       "<ul><li>EstimateCcnotResources</li></ul>"
      ],
      "text/plain": [
       "EstimateCcnotResources"
      ]
     },
     "execution_count": 12,
     "metadata": {},
     "output_type": "execute_result"
    }
   ],
   "source": [
    "operation EstimateCcnotResources() : Unit {\n",
    "    use register = Qubit[3];\n",
    "    CCNOT(register[0], register[1], register[2]);\n",
    "}"
   ]
  },
  {
   "cell_type": "code",
   "execution_count": 13,
   "metadata": {},
   "outputs": [
    {
     "data": {
      "application/x-qsharp-data": "[{\"Metric\":\"CNOT\",\"Sum\":10.0,\"Max\":10.0},{\"Metric\":\"QubitClifford\",\"Sum\":2.0,\"Max\":2.0},{\"Metric\":\"R\",\"Sum\":0.0,\"Max\":0.0},{\"Metric\":\"Measure\",\"Sum\":0.0,\"Max\":0.0},{\"Metric\":\"T\",\"Sum\":7.0,\"Max\":7.0},{\"Metric\":\"Depth\",\"Sum\":5.0,\"Max\":5.0},{\"Metric\":\"Width\",\"Sum\":3.0,\"Max\":3.0},{\"Metric\":\"QubitCount\",\"Sum\":3.0,\"Max\":3.0},{\"Metric\":\"BorrowedWidth\",\"Sum\":0.0,\"Max\":0.0}]",
      "text/html": [
       "<table><thead><tr><th style=\"text-align: start;\">Metric</th><th style=\"text-align: start;\">Sum</th><th style=\"text-align: start;\">Max</th></tr></thead><tbody><tr><td style=\"text-align: start;\">CNOT</td><td style=\"text-align: start;\">10</td><td style=\"text-align: start;\">10</td></tr><tr><td style=\"text-align: start;\">QubitClifford</td><td style=\"text-align: start;\">2</td><td style=\"text-align: start;\">2</td></tr><tr><td style=\"text-align: start;\">R</td><td style=\"text-align: start;\">0</td><td style=\"text-align: start;\">0</td></tr><tr><td style=\"text-align: start;\">Measure</td><td style=\"text-align: start;\">0</td><td style=\"text-align: start;\">0</td></tr><tr><td style=\"text-align: start;\">T</td><td style=\"text-align: start;\">7</td><td style=\"text-align: start;\">7</td></tr><tr><td style=\"text-align: start;\">Depth</td><td style=\"text-align: start;\">5</td><td style=\"text-align: start;\">5</td></tr><tr><td style=\"text-align: start;\">Width</td><td style=\"text-align: start;\">3</td><td style=\"text-align: start;\">3</td></tr><tr><td style=\"text-align: start;\">QubitCount</td><td style=\"text-align: start;\">3</td><td style=\"text-align: start;\">3</td></tr><tr><td style=\"text-align: start;\">BorrowedWidth</td><td style=\"text-align: start;\">0</td><td style=\"text-align: start;\">0</td></tr></tbody></table>"
      ],
      "text/plain": [
       "Metric        Sum Max\n",
       "------------- -- --\n",
       "CNOT          10 10\n",
       "QubitClifford 2  2\n",
       "R             0  0\n",
       "Measure       0  0\n",
       "T             7  7\n",
       "Depth         5  5\n",
       "Width         3  3\n",
       "QubitCount    3  3\n",
       "BorrowedWidth 0  0\n"
      ]
     },
     "execution_count": 13,
     "metadata": {},
     "output_type": "execute_result"
    }
   ],
   "source": [
    "%estimate EstimateCcnotResources"
   ]
  },
  {
   "cell_type": "markdown",
   "metadata": {},
   "source": [
    "----\n",
    "### Epilogue\n",
    "\n",
    "_The following cell logs what version of the components this was last tested with._"
   ]
  },
  {
   "cell_type": "code",
   "execution_count": 14,
   "metadata": {},
   "outputs": [
    {
     "data": {
      "application/x-qsharp-data": "{\"rows\":[{\"@type\":\"@tuple\",\"Item1\":\"iqsharp\",\"Item2\":\"0.24.210930\"},{\"@type\":\"@tuple\",\"Item1\":\"Jupyter Core\",\"Item2\":\"1.5.0.0\"},{\"@type\":\"@tuple\",\"Item1\":\".NET Runtime\",\"Item2\":\".NETCoreApp,Version=v6.0\"}]}",
      "text/html": [
       "<table><thead><tr><th style=\"text-align: start;\">Component</th><th style=\"text-align: start;\">Version</th></tr></thead><tbody><tr><td style=\"text-align: start;\">iqsharp</td><td style=\"text-align: start;\">0.24.210930</td></tr><tr><td style=\"text-align: start;\">Jupyter Core</td><td style=\"text-align: start;\">1.5.0.0</td></tr><tr><td style=\"text-align: start;\">.NET Runtime</td><td style=\"text-align: start;\">.NETCoreApp,Version=v6.0</td></tr></tbody></table>"
      ],
      "text/plain": [
       "Component    Version\n",
       "------------ ------------------------\n",
       "iqsharp      0.24.210930\n",
       "Jupyter Core 1.5.0.0\n",
       ".NET Runtime .NETCoreApp,Version=v6.0\n"
      ]
     },
     "metadata": {},
     "output_type": "display_data"
    }
   ],
   "source": [
    "%version"
   ]
  },
  {
   "cell_type": "code",
   "execution_count": null,
   "metadata": {},
   "outputs": [],
   "source": []
  }
 ],
 "metadata": {
  "kernelspec": {
   "display_name": "Q#",
   "language": "qsharp",
   "name": "iqsharp"
  },
  "language_info": {
   "file_extension": ".qs",
   "mimetype": "text/x-qsharp",
   "name": "qsharp",
   "version": "0.24"
  }
 },
 "nbformat": 4,
 "nbformat_minor": 2
}
